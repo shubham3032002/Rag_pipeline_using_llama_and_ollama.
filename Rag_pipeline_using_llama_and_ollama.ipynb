{
  "nbformat": 4,
  "nbformat_minor": 0,
  "metadata": {
    "colab": {
      "provenance": [],
      "authorship_tag": "ABX9TyMD4O4O8x/kd0rlR9D7hTZY",
      "include_colab_link": true
    },
    "kernelspec": {
      "name": "python3",
      "display_name": "Python 3"
    },
    "language_info": {
      "name": "python"
    }
  },
  "cells": [
    {
      "cell_type": "markdown",
      "metadata": {
        "id": "view-in-github",
        "colab_type": "text"
      },
      "source": [
        "<a href=\"https://colab.research.google.com/github/shubham3032002/Rag_pipeline_using_llama_and_ollama./blob/main/Rag_pipeline_using_llama_and_ollama.ipynb\" target=\"_parent\"><img src=\"https://colab.research.google.com/assets/colab-badge.svg\" alt=\"Open In Colab\"/></a>"
      ]
    },
    {
      "cell_type": "code",
      "execution_count": 39,
      "metadata": {
        "id": "ucg5CIK0IHv5"
      },
      "outputs": [],
      "source": [
        "corpus_of_documents =[\n",
        "    \"Python is a versatile programming language known for its simplicity and readability.\"\n",
        "\"Variables in Python do not require explicit type declarations.\"\n",
        "\"Python supports multiple programming paradigms, including procedural, object-oriented, and functional programming.\"\n",
        "\"The `print()` function is used to display output in Python.\"\n",
        "\"Indentation is mandatory in Python and defines code blocks.\"\n",
        "\"Python has a dynamic type system and garbage collection.\"\n",
        "\"Lists in Python are mutable and can store elements of different data types.\"\n",
        "\"Tuples are immutable and are defined using parentheses.\"\n",
        "\"Dictionaries in Python store key-value pairs and are unordered.\"\n",
        "\"Python supports sets, which are unordered collections of unique elements.\"\n",
        "\"The `for` loop in Python is used for iterating over sequences like lists or strings.\"\n",
        "\"Python's `while` loop runs as long as a condition is `True`.\"\n",
        "\"Functions in Python are defined using the `def` keyword.\"\n",
        "\"Lambda functions in Python are anonymous and defined using the `lambda` keyword.\"\n",
        "\"Python uses the `import` statement to include external modules or libraries.\"\n",
        "\"The `os` module in Python provides functions to interact with the operating system.\"\n",
        "\"Python has a built-in `math` module for performing mathematical operations.\"\n",
        "\"Strings in Python are immutable and can be enclosed in single or double quotes.\"\n",
        "\"The `split()` method divides a string into a list based on a delimiter.\"\n",
        "\"Python supports string formatting with f-strings, `.format()`, and `%` operators.\"\n",
        "\"The `try` and `except` blocks handle exceptions in Python.\"\n",
        "\"Python uses the `with` statement to manage resources like file handling.\"\n",
        "\"List comprehensions in Python provide a concise way to create lists.\"\n",
        "\"Generators in Python use the `yield` keyword to produce values lazily.\"\n",
        "\"The `map()` function applies a function to all items in an iterable.\"\n",
        "\"The `filter()` function selects elements from an iterable based on a condition.\"\n",
        "\"Python has extensive support for regular expressions using the `re` module.\"\n",
        "\"The `datetime` module handles dates and times in Python.\"\n",
        "\"Python provides built-in support for JSON serialization with the `json` module.\"\n",
        "\"Python is widely used for web development with frameworks like Django and Flask.\"\n",
        "\"Data analysis in Python is often done using libraries like Pandas and NumPy.\"\n",
        "\"Machine learning applications in Python commonly use TensorFlow and PyTorch.\"\n",
        "\"Matplotlib and Seaborn are popular libraries for data visualization in Python.\"\n",
        "\"Python is a popular choice for scripting and automation.\"\n",
        "\"Python's `asyncio` library supports asynchronous programming.\"\n",
        "\"The `logging` module in Python provides a flexible framework for logging messages.\"\n",
        "\"Python has extensive support for testing with libraries like `unittest` and `pytest`.\"\n",
        "\"The `argparse` module is used for parsing command-line arguments.\"\n",
        "\"Python's `collections` module offers specialized container data types.\"\n",
        "\"Decorators in Python are functions that modify other functions or methods.\"\n",
        "\"Python supports multiple inheritance in object-oriented programming.\"\n",
        "\"The `super()` function allows access to methods in a parent class.\"\n",
        "\"Python provides support for file I/O operations using built-in functions like `open()`.\"\n",
        "\"Python's `itertools` module provides tools for working with iterators.\"\n",
        "\"Python supports complex numbers, represented as `a + bj`.\"\n",
        "\"The `random` module in Python is used for generating random numbers.\"\n",
        "\"The `csv` module simplifies reading from and writing to CSV files.\"\n",
        "\"Python has built-in support for working with XML and HTML using `xml` and `html.parser` modules.\"\n",
        "\"The `zip()` function combines multiple iterables into tuples.\"\n",
        "\"The `enumerate()` function adds an index to each item in an iterable.\"\n",
        "\"The `id()` function returns the unique identifier of an object in Python.\"\n",
        "\"Python allows the use of metaclasses to control the creation of classes.\"\n",
        "\"The `__init__` method in Python is the constructor for classes.\"\n",
        "\"The `__str__` and `__repr__` methods control how objects are displayed.\"\n",
        "\"Python's `__getitem__` method allows indexing for custom objects.\"\n",
        "\"The `staticmethod` and `classmethod` decorators define special methods in a class.\"\n",
        "\"Python supports creating virtual environments with the `venv` module.\"\n",
        "\"PIP is the package installer for Python and is used to install libraries.\"\n",
        "\"Python supports Unicode strings by default.\"\n",
        "\"Assertions in Python are used for debugging with the `assert` statement.\"\n",
        "\"The `type()` function returns the type of an object.\"\n",
        "\"Python supports inheritance and polymorphism in classes.\"\n",
        "\"The `dir()` function lists the attributes of an object.\"\n",
        "\"Python allows importing specific functions or classes using `from module import` syntax.\"\n",
        "\"Modules in Python can be grouped into packages using directories and `__init__.py` files.\"\n",
        "\"The `help()` function provides documentation for objects and modules.\"\n",
        "\"Python is widely used for scientific computing with SciPy and SymPy libraries.\"\n",
        "\"Python is a preferred choice for artificial intelligence applications.\"\n",
        "\"The `socket` module in Python is used for network programming.\"\n",
        "\"Python has robust support for multithreading and multiprocessing.\"\n",
        "\"The `ctypes` library allows calling C functions in Python.\"\n",
        "\"Python is a popular language for game development using libraries like Pygame.\"\n",
        "\"The `hashlib` module provides secure hash algorithms like SHA and MD5.\"\n",
        "\"Python supports both procedural and functional programming styles.\"\n",
        "\"Python's `property` decorator allows defining managed attributes.\"\n",
        "\"The `abc` module provides support for abstract base classes in Python.\"\n",
        "\"Python's `glob` module is used to find file paths matching a pattern.\"\n",
        "\"The `time` module provides functions for working with time.\"\n",
        "\"Python's `inspect` module is used for introspecting live objects.\"\n",
        "\"The `subprocess` module allows running shell commands in Python.\"\n",
        "\"Python's `traceback` module helps in formatting and printing error traces.\"\n",
        "\"The `shutil` module provides file operations like copying and moving.\"\n",
        "\"Python's `configparser` module is used for parsing configuration files.\"\n",
        "\"The `pickle` module serializes and deserializes Python objects.\"\n",
        "\"Python supports database interaction using libraries like SQLite and SQLAlchemy.\"\n",
        "\"Python is a key language for developing REST APIs.\"\n",
        "\"The `functools` module includes utilities for higher-order functions.\"\n",
        "\"The `threading` module in Python supports concurrent execution.\"\n",
        "\"Python is an essential tool for web scraping using BeautifulSoup and Scrapy.\"\n",
        "\"Python's `weakref` module provides support for weak references to objects.\"\n",
        "\"Python's community and extensive documentation make it easy to learn and use.\"\n",
        "\n",
        "\n",
        "]"
      ]
    },
    {
      "cell_type": "code",
      "source": [
        "from collections import Counter\n",
        "import math"
      ],
      "metadata": {
        "id": "V0wohZHZJvli"
      },
      "execution_count": 40,
      "outputs": []
    },
    {
      "cell_type": "code",
      "source": [
        "def cosine_similarity(query, document):\n",
        "    # Tokenize and convert to lowercase\n",
        "    query_tokens = query.lower().split(\" \")\n",
        "    document_tokens = document.lower().split(\" \")\n",
        "\n",
        "    # Create Counters for query and document\n",
        "    query_counter = Counter(query_tokens)\n",
        "    document_counter = Counter(document_tokens)\n",
        "\n",
        "    # Calculate dot product\n",
        "    dot_product = sum(query_counter[token] * document_counter[token] for token in query_counter.keys() & document_counter.keys())\n",
        "\n",
        "    # Calculate magnitudes\n",
        "    query_magnitude = math.sqrt(sum(query_counter[token] ** 2 for token in query_counter))\n",
        "    document_magnitude = math.sqrt(sum(document_counter[token] ** 2 for token in document_counter))\n",
        "\n",
        "    # Calculate cosine similarity\n",
        "    similarity = dot_product / (query_magnitude * document_magnitude) if query_magnitude * document_magnitude != 0 else 0\n",
        "\n",
        "    return similarity"
      ],
      "metadata": {
        "id": "3dgnKMtlJ5S5"
      },
      "execution_count": 41,
      "outputs": []
    },
    {
      "cell_type": "code",
      "source": [
        "\n",
        "def return_response(query, corpus_of_documents):\n",
        "    similarities = []\n",
        "    for doc in corpus_of_documents:\n",
        "        similarity = cosine_similarity(query, doc)\n",
        "        similarities.append(similarity)\n",
        "\n",
        "    # Find the document with the highest similarity\n",
        "    max_similarity_index = similarities.index(max(similarities))\n",
        "    return corpus_of_documents[max_similarity_index]"
      ],
      "metadata": {
        "id": "68W0N_s4Ld6b"
      },
      "execution_count": 42,
      "outputs": []
    },
    {
      "cell_type": "code",
      "source": [
        "user_input = \"What is function?\"\n",
        "relevant_document = return_response(user_input, corpus_of_documents)\n"
      ],
      "metadata": {
        "id": "RYlUUrVbMcM9"
      },
      "execution_count": 44,
      "outputs": []
    },
    {
      "cell_type": "code",
      "source": [
        "relevant_document"
      ],
      "metadata": {
        "id": "t4YkZG1TP7l3"
      },
      "execution_count": null,
      "outputs": []
    },
    {
      "cell_type": "code",
      "source": [
        "import requests\n",
        "import json\n",
        "full_response =[]"
      ],
      "metadata": {
        "id": "lmMKnE4OMjW3"
      },
      "execution_count": 45,
      "outputs": []
    },
    {
      "cell_type": "code",
      "source": [
        "full_response = []\n",
        "prompt = \"\"\"\n",
        "You are a bot that makes recommendations for activities. You answer in very short sentences and do not include extra information.\n",
        "This is the recommended activity: {relevant_document}\n",
        "The user input is: {user_input}\n",
        "Compile a recommendation to the user based on the recommended activity and the user input.\n",
        "\"\"\"\n",
        "\n",
        "url = 'http://localhost:11434/api/generate'\n",
        "\n",
        "\n",
        "data = {\n",
        "    \"model\": \"llama2\",\n",
        "    \"prompt\": prompt.format(user_input=user_input, relevant_document=relevant_document)\n",
        "}\n",
        "\n",
        "headers = {'Content-Type': 'application/json'}\n",
        "\n",
        "response = requests.post(url, data=json.dumps(data), headers=headers, stream=True)\n",
        "\n",
        "\n",
        "try:\n",
        "    for line in response.iter_lines():\n",
        "        # filter out keep-alive new lines\n",
        "        if line:\n",
        "            decoded_line = json.loads(line.decode('utf-8'))\n",
        "            # print(decoded_line['response'])  # uncomment to results, token by token\n",
        "            full_response.append(decoded_line['response'])\n",
        "finally:\n",
        "    response.close()\n",
        "\n",
        "\n",
        "print(''.join(full_response))\n"
      ],
      "metadata": {
        "id": "5fTuN_kBMrE3"
      },
      "execution_count": 45,
      "outputs": []
    },
    {
      "cell_type": "code",
      "source": [],
      "metadata": {
        "id": "lJlZyj9FMtqo"
      },
      "execution_count": 45,
      "outputs": []
    },
    {
      "cell_type": "code",
      "source": [
        "\n"
      ],
      "metadata": {
        "id": "P2OcxwedNo6j"
      },
      "execution_count": 45,
      "outputs": []
    },
    {
      "cell_type": "code",
      "source": [],
      "metadata": {
        "id": "dZLBSuUQNuE2"
      },
      "execution_count": null,
      "outputs": []
    }
  ]
}