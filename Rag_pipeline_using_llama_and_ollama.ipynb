{
  "nbformat": 4,
  "nbformat_minor": 0,
  "metadata": {
    "colab": {
      "provenance": [],
      "authorship_tag": "ABX9TyNLM/1haRGG/KrUgUjXD3eN",
      "include_colab_link": true
    },
    "kernelspec": {
      "name": "python3",
      "display_name": "Python 3"
    },
    "language_info": {
      "name": "python"
    }
  },
  "cells": [
    {
      "cell_type": "markdown",
      "metadata": {
        "id": "view-in-github",
        "colab_type": "text"
      },
      "source": [
        "<a href=\"https://colab.research.google.com/github/shubham3032002/Rag_pipeline_using_llama_and_ollama./blob/main/Rag_pipeline_using_llama_and_ollama.ipynb\" target=\"_parent\"><img src=\"https://colab.research.google.com/assets/colab-badge.svg\" alt=\"Open In Colab\"/></a>"
      ]
    },
    {
      "cell_type": "code",
      "execution_count": 23,
      "metadata": {
        "id": "ucg5CIK0IHv5"
      },
      "outputs": [],
      "source": [
        "corpus_of_documents =[\n",
        "    \"Python is a versatile programming language known for its simplicity and readability.\"\n",
        "\"Variables in Python do not require explicit type declarations.\"\n",
        "\"Python supports multiple programming paradigms, including procedural, object-oriented, and functional programming.\"\n",
        "\"The `print()` function is used to display output in Python.\"\n",
        "\"Indentation is mandatory in Python and defines code blocks.\"\n",
        "\"Python has a dynamic type system and garbage collection.\"\n",
        "\"Lists in Python are mutable and can store elements of different data types.\"\n",
        "\"Tuples are immutable and are defined using parentheses.\"\n",
        "\"Dictionaries in Python store key-value pairs and are unordered.\"\n",
        "\"Python supports sets, which are unordered collections of unique elements.\"\n",
        "\"The `for` loop in Python is used for iterating over sequences like lists or strings.\"\n",
        "\"Python's `while` loop runs as long as a condition is `True`.\"\n",
        "\"Functions in Python are defined using the `def` keyword.\"\n",
        "\"Lambda functions in Python are anonymous and defined using the `lambda` keyword.\"\n",
        "\"Python uses the `import` statement to include external modules or libraries.\"\n",
        "\"The `os` module in Python provides functions to interact with the operating system.\"\n",
        "\"Python has a built-in `math` module for performing mathematical operations.\"\n",
        "\"Strings in Python are immutable and can be enclosed in single or double quotes.\"\n",
        "\"The `split()` method divides a string into a list based on a delimiter.\"\n",
        "\"Python supports string formatting with f-strings, `.format()`, and `%` operators.\"\n",
        "\"The `try` and `except` blocks handle exceptions in Python.\"\n",
        "\"Python uses the `with` statement to manage resources like file handling.\"\n",
        "\"List comprehensions in Python provide a concise way to create lists.\"\n",
        "\"Generators in Python use the `yield` keyword to produce values lazily.\"\n",
        "\"The `map()` function applies a function to all items in an iterable.\"\n",
        "\"The `filter()` function selects elements from an iterable based on a condition.\"\n",
        "\"Python has extensive support for regular expressions using the `re` module.\"\n",
        "\"The `datetime` module handles dates and times in Python.\"\n",
        "\"Python provides built-in support for JSON serialization with the `json` module.\"\n",
        "\"Python is widely used for web development with frameworks like Django and Flask.\"\n",
        "\"Data analysis in Python is often done using libraries like Pandas and NumPy.\"\n",
        "\"Machine learning applications in Python commonly use TensorFlow and PyTorch.\"\n",
        "\"Matplotlib and Seaborn are popular libraries for data visualization in Python.\"\n",
        "\"Python is a popular choice for scripting and automation.\"\n",
        "\"Python's `asyncio` library supports asynchronous programming.\"\n",
        "\"The `logging` module in Python provides a flexible framework for logging messages.\"\n",
        "\"Python has extensive support for testing with libraries like `unittest` and `pytest`.\"\n",
        "\"The `argparse` module is used for parsing command-line arguments.\"\n",
        "\"Python's `collections` module offers specialized container data types.\"\n",
        "\"Decorators in Python are functions that modify other functions or methods.\"\n",
        "\"Python supports multiple inheritance in object-oriented programming.\"\n",
        "\"The `super()` function allows access to methods in a parent class.\"\n",
        "\"Python provides support for file I/O operations using built-in functions like `open()`.\"\n",
        "\"Python's `itertools` module provides tools for working with iterators.\"\n",
        "\"Python supports complex numbers, represented as `a + bj`.\"\n",
        "\"The `random` module in Python is used for generating random numbers.\"\n",
        "\"The `csv` module simplifies reading from and writing to CSV files.\"\n",
        "\"Python has built-in support for working with XML and HTML using `xml` and `html.parser` modules.\"\n",
        "\"The `zip()` function combines multiple iterables into tuples.\"\n",
        "\"The `enumerate()` function adds an index to each item in an iterable.\"\n",
        "\"The `id()` function returns the unique identifier of an object in Python.\"\n",
        "\"Python allows the use of metaclasses to control the creation of classes.\"\n",
        "\"The `__init__` method in Python is the constructor for classes.\"\n",
        "\"The `__str__` and `__repr__` methods control how objects are displayed.\"\n",
        "\"Python's `__getitem__` method allows indexing for custom objects.\"\n",
        "\"The `staticmethod` and `classmethod` decorators define special methods in a class.\"\n",
        "\"Python supports creating virtual environments with the `venv` module.\"\n",
        "\"PIP is the package installer for Python and is used to install libraries.\"\n",
        "\"Python supports Unicode strings by default.\"\n",
        "\"Assertions in Python are used for debugging with the `assert` statement.\"\n",
        "\"The `type()` function returns the type of an object.\"\n",
        "\"Python supports inheritance and polymorphism in classes.\"\n",
        "\"The `dir()` function lists the attributes of an object.\"\n",
        "\"Python allows importing specific functions or classes using `from module import` syntax.\"\n",
        "\"Modules in Python can be grouped into packages using directories and `__init__.py` files.\"\n",
        "\"The `help()` function provides documentation for objects and modules.\"\n",
        "\"Python is widely used for scientific computing with SciPy and SymPy libraries.\"\n",
        "\"Python is a preferred choice for artificial intelligence applications.\"\n",
        "\"The `socket` module in Python is used for network programming.\"\n",
        "\"Python has robust support for multithreading and multiprocessing.\"\n",
        "\"The `ctypes` library allows calling C functions in Python.\"\n",
        "\"Python is a popular language for game development using libraries like Pygame.\"\n",
        "\"The `hashlib` module provides secure hash algorithms like SHA and MD5.\"\n",
        "\"Python supports both procedural and functional programming styles.\"\n",
        "\"Python's `property` decorator allows defining managed attributes.\"\n",
        "\"The `abc` module provides support for abstract base classes in Python.\"\n",
        "\"Python's `glob` module is used to find file paths matching a pattern.\"\n",
        "\"The `time` module provides functions for working with time.\"\n",
        "\"Python's `inspect` module is used for introspecting live objects.\"\n",
        "\"The `subprocess` module allows running shell commands in Python.\"\n",
        "\"Python's `traceback` module helps in formatting and printing error traces.\"\n",
        "\"The `shutil` module provides file operations like copying and moving.\"\n",
        "\"Python's `configparser` module is used for parsing configuration files.\"\n",
        "\"The `pickle` module serializes and deserializes Python objects.\"\n",
        "\"Python supports database interaction using libraries like SQLite and SQLAlchemy.\"\n",
        "\"Python is a key language for developing REST APIs.\"\n",
        "\"The `functools` module includes utilities for higher-order functions.\"\n",
        "\"The `threading` module in Python supports concurrent execution.\"\n",
        "\"Python is an essential tool for web scraping using BeautifulSoup and Scrapy.\"\n",
        "\"Python's `weakref` module provides support for weak references to objects.\"\n",
        "\"Python's community and extensive documentation make it easy to learn and use.\"\n",
        "\n",
        "\n",
        "]"
      ]
    },
    {
      "cell_type": "code",
      "source": [
        "from collections import Counter\n",
        "import math"
      ],
      "metadata": {
        "id": "V0wohZHZJvli"
      },
      "execution_count": 24,
      "outputs": []
    },
    {
      "cell_type": "code",
      "source": [
        "def cosine_similarity(query, document):\n",
        "    # Tokenize and convert to lowercase\n",
        "    query_tokens = query.lower().split(\" \")\n",
        "    document_tokens = document.lower().split(\" \")\n",
        "\n",
        "    # Create Counters for query and document\n",
        "    query_counter = Counter(query_tokens)\n",
        "    document_counter = Counter(document_tokens)\n",
        "\n",
        "    # Calculate dot product\n",
        "    dot_product = sum(query_counter[token] * document_counter[token] for token in query_counter.keys() & document_counter.keys())\n",
        "\n",
        "    # Calculate magnitudes\n",
        "    query_magnitude = math.sqrt(sum(query_counter[token] ** 2 for token in query_counter))\n",
        "    document_magnitude = math.sqrt(sum(document_counter[token] ** 2 for token in document_counter))\n",
        "\n",
        "    # Calculate cosine similarity\n",
        "    similarity = dot_product / (query_magnitude * document_magnitude) if query_magnitude * document_magnitude != 0 else 0\n",
        "\n",
        "    return similarity"
      ],
      "metadata": {
        "id": "3dgnKMtlJ5S5"
      },
      "execution_count": 25,
      "outputs": []
    },
    {
      "cell_type": "code",
      "source": [
        "\n",
        "def return_response(query, corpus_of_documents):\n",
        "    similarities = []\n",
        "    for doc in corpus_of_documents:\n",
        "        similarity = cosine_similarity(query, doc)\n",
        "        similarities.append(similarity)\n",
        "\n",
        "    # Find the document with the highest similarity\n",
        "    max_similarity_index = similarities.index(max(similarities))\n",
        "    return corpus_of_documents[max_similarity_index]"
      ],
      "metadata": {
        "id": "68W0N_s4Ld6b"
      },
      "execution_count": 26,
      "outputs": []
    },
    {
      "cell_type": "code",
      "source": [
        "user_input = \"What is function?\"\n",
        "relevant_document = return_response(user_input, corpus_of_documents)\n",
        "relevant_document"
      ],
      "metadata": {
        "colab": {
          "base_uri": "https://localhost:8080/",
          "height": 127
        },
        "id": "RYlUUrVbMcM9",
        "outputId": "a4eb09c5-c1d0-4a86-82e0-410e1bc1232f"
      },
      "execution_count": 35,
      "outputs": [
        {
          "output_type": "execute_result",
          "data": {
            "text/plain": [
              "\"Python is a versatile programming language known for its simplicity and readability.Variables in Python do not require explicit type declarations.Python supports multiple programming paradigms, including procedural, object-oriented, and functional programming.The `print()` function is used to display output in Python.Indentation is mandatory in Python and defines code blocks.Python has a dynamic type system and garbage collection.Lists in Python are mutable and can store elements of different data types.Tuples are immutable and are defined using parentheses.Dictionaries in Python store key-value pairs and are unordered.Python supports sets, which are unordered collections of unique elements.The `for` loop in Python is used for iterating over sequences like lists or strings.Python's `while` loop runs as long as a condition is `True`.Functions in Python are defined using the `def` keyword.Lambda functions in Python are anonymous and defined using the `lambda` keyword.Python uses the `import` statement to include external modules or libraries.The `os` module in Python provides functions to interact with the operating system.Python has a built-in `math` module for performing mathematical operations.Strings in Python are immutable and can be enclosed in single or double quotes.The `split()` method divides a string into a list based on a delimiter.Python supports string formatting with f-strings, `.format()`, and `%` operators.The `try` and `except` blocks handle exceptions in Python.Python uses the `with` statement to manage resources like file handling.List comprehensions in Python provide a concise way to create lists.Generators in Python use the `yield` keyword to produce values lazily.The `map()` function applies a function to all items in an iterable.The `filter()` function selects elements from an iterable based on a condition.Python has extensive support for regular expressions using the `re` module.The `datetime` module handles dates and times in Python.Python provides built-in support for JSON serialization with the `json` module.Python is widely used for web development with frameworks like Django and Flask.Data analysis in Python is often done using libraries like Pandas and NumPy.Machine learning applications in Python commonly use TensorFlow and PyTorch.Matplotlib and Seaborn are popular libraries for data visualization in Python.Python is a popular choice for scripting and automation.Python's `asyncio` library supports asynchronous programming.The `logging` module in Python provides a flexible framework for logging messages.Python has extensive support for testing with libraries like `unittest` and `pytest`.The `argparse` module is used for parsing command-line arguments.Python's `collections` module offers specialized container data types.Decorators in Python are functions that modify other functions or methods.Python supports multiple inheritance in object-oriented programming.The `super()` function allows access to methods in a parent class.Python provides support for file I/O operations using built-in functions like `open()`.Python's `itertools` module provides tools for working with iterators.Python supports complex numbers, represented as `a + bj`.The `random` module in Python is used for generating random numbers.The `csv` module simplifies reading from and writing to CSV files.Python has built-in support for working with XML and HTML using `xml` and `html.parser` modules.The `zip()` function combines multiple iterables into tuples.The `enumerate()` function adds an index to each item in an iterable.The `id()` function returns the unique identifier of an object in Python.Python allows the use of metaclasses to control the creation of classes.The `__init__` method in Python is the constructor for classes.The `__str__` and `__repr__` methods control how objects are displayed.Python's `__getitem__` method allows indexing for custom objects.The `staticmethod` and `classmethod` decorators define special methods in a class.Python supports creating virtual environments with the `venv` module.PIP is the package installer for Python and is used to install libraries.Python supports Unicode strings by default.Assertions in Python are used for debugging with the `assert` statement.The `type()` function returns the type of an object.Python supports inheritance and polymorphism in classes.The `dir()` function lists the attributes of an object.Python allows importing specific functions or classes using `from module import` syntax.Modules in Python can be grouped into packages using directories and `__init__.py` files.The `help()` function provides documentation for objects and modules.Python is widely used for scientific computing with SciPy and SymPy libraries.Python is a preferred choice for artificial intelligence applications.The `socket` module in Python is used for network programming.Python has robust support for multithreading and multiprocessing.The `ctypes` library allows calling C functions in Python.Python is a popular language for game development using libraries like Pygame.The `hashlib` module provides secure hash algorithms like SHA and MD5.Python supports both procedural and functional programming styles.Python's `property` decorator allows defining managed attributes.The `abc` module provides support for abstract base classes in Python.Python's `glob` module is used to find file paths matching a pattern.The `time` module provides functions for working with time.Python's `inspect` module is used for introspecting live objects.The `subprocess` module allows running shell commands in Python.Python's `traceback` module helps in formatting and printing error traces.The `shutil` module provides file operations like copying and moving.Python's `configparser` module is used for parsing configuration files.The `pickle` module serializes and deserializes Python objects.Python supports database interaction using libraries like SQLite and SQLAlchemy.Python is a key language for developing REST APIs.The `functools` module includes utilities for higher-order functions.The `threading` module in Python supports concurrent execution.Python is an essential tool for web scraping using BeautifulSoup and Scrapy.Python's `weakref` module provides support for weak references to objects.Python's community and extensive documentation make it easy to learn and use.\""
            ],
            "application/vnd.google.colaboratory.intrinsic+json": {
              "type": "string"
            }
          },
          "metadata": {},
          "execution_count": 35
        }
      ]
    },
    {
      "cell_type": "code",
      "source": [
        "import requests\n",
        "import json\n",
        "full_response =[]"
      ],
      "metadata": {
        "id": "lmMKnE4OMjW3"
      },
      "execution_count": 36,
      "outputs": []
    },
    {
      "cell_type": "code",
      "source": [
        "full_response = []\n",
        "prompt = \"\"\"\n",
        "You are a bot that makes recommendations for activities. You answer in very short sentences and do not include extra information.\n",
        "This is the recommended activity: {relevant_document}\n",
        "The user input is: {user_input}\n",
        "Compile a recommendation to the user based on the recommended activity and the user input.\n",
        "\"\"\"\n",
        "\n",
        "url = 'http://localhost:11434/api/generate'\n",
        "\n",
        "\n",
        "data = {\n",
        "    \"model\": \"llama2\",\n",
        "    \"prompt\": prompt.format(user_input=user_input, relevant_document=relevant_document)\n",
        "}\n",
        "\n",
        "headers = {'Content-Type': 'application/json'}\n",
        "\n",
        "response = requests.post(url, data=json.dumps(data), headers=headers, stream=True)\n",
        "\n",
        "\n",
        "try:\n",
        "    for line in response.iter_lines():\n",
        "        # filter out keep-alive new lines\n",
        "        if line:\n",
        "            decoded_line = json.loads(line.decode('utf-8'))\n",
        "            # print(decoded_line['response'])  # uncomment to results, token by token\n",
        "            full_response.append(decoded_line['response'])\n",
        "finally:\n",
        "    response.close()\n",
        "\n",
        "\n",
        "print(''.join(full_response))\n"
      ],
      "metadata": {
        "colab": {
          "base_uri": "https://localhost:8080/",
          "height": 642
        },
        "id": "5fTuN_kBMrE3",
        "outputId": "0de7a7ae-225a-4204-d1b9-25089e2b4de4"
      },
      "execution_count": 38,
      "outputs": [
        {
          "output_type": "error",
          "ename": "ConnectionError",
          "evalue": "HTTPConnectionPool(host='localhost', port=11434): Max retries exceeded with url: /api/generate (Caused by NewConnectionError('<urllib3.connection.HTTPConnection object at 0x7bd663ac1090>: Failed to establish a new connection: [Errno 111] Connection refused'))",
          "traceback": [
            "\u001b[0;31m---------------------------------------------------------------------------\u001b[0m",
            "\u001b[0;31mConnectionRefusedError\u001b[0m                    Traceback (most recent call last)",
            "\u001b[0;32m/usr/local/lib/python3.10/dist-packages/urllib3/connection.py\u001b[0m in \u001b[0;36m_new_conn\u001b[0;34m(self)\u001b[0m\n\u001b[1;32m    198\u001b[0m         \u001b[0;32mtry\u001b[0m\u001b[0;34m:\u001b[0m\u001b[0;34m\u001b[0m\u001b[0;34m\u001b[0m\u001b[0m\n\u001b[0;32m--> 199\u001b[0;31m             sock = connection.create_connection(\n\u001b[0m\u001b[1;32m    200\u001b[0m                 \u001b[0;34m(\u001b[0m\u001b[0mself\u001b[0m\u001b[0;34m.\u001b[0m\u001b[0m_dns_host\u001b[0m\u001b[0;34m,\u001b[0m \u001b[0mself\u001b[0m\u001b[0;34m.\u001b[0m\u001b[0mport\u001b[0m\u001b[0;34m)\u001b[0m\u001b[0;34m,\u001b[0m\u001b[0;34m\u001b[0m\u001b[0;34m\u001b[0m\u001b[0m\n",
            "\u001b[0;32m/usr/local/lib/python3.10/dist-packages/urllib3/util/connection.py\u001b[0m in \u001b[0;36mcreate_connection\u001b[0;34m(address, timeout, source_address, socket_options)\u001b[0m\n\u001b[1;32m     84\u001b[0m         \u001b[0;32mtry\u001b[0m\u001b[0;34m:\u001b[0m\u001b[0;34m\u001b[0m\u001b[0;34m\u001b[0m\u001b[0m\n\u001b[0;32m---> 85\u001b[0;31m             \u001b[0;32mraise\u001b[0m \u001b[0merr\u001b[0m\u001b[0;34m\u001b[0m\u001b[0;34m\u001b[0m\u001b[0m\n\u001b[0m\u001b[1;32m     86\u001b[0m         \u001b[0;32mfinally\u001b[0m\u001b[0;34m:\u001b[0m\u001b[0;34m\u001b[0m\u001b[0;34m\u001b[0m\u001b[0m\n",
            "\u001b[0;32m/usr/local/lib/python3.10/dist-packages/urllib3/util/connection.py\u001b[0m in \u001b[0;36mcreate_connection\u001b[0;34m(address, timeout, source_address, socket_options)\u001b[0m\n\u001b[1;32m     72\u001b[0m                 \u001b[0msock\u001b[0m\u001b[0;34m.\u001b[0m\u001b[0mbind\u001b[0m\u001b[0;34m(\u001b[0m\u001b[0msource_address\u001b[0m\u001b[0;34m)\u001b[0m\u001b[0;34m\u001b[0m\u001b[0;34m\u001b[0m\u001b[0m\n\u001b[0;32m---> 73\u001b[0;31m             \u001b[0msock\u001b[0m\u001b[0;34m.\u001b[0m\u001b[0mconnect\u001b[0m\u001b[0;34m(\u001b[0m\u001b[0msa\u001b[0m\u001b[0;34m)\u001b[0m\u001b[0;34m\u001b[0m\u001b[0;34m\u001b[0m\u001b[0m\n\u001b[0m\u001b[1;32m     74\u001b[0m             \u001b[0;31m# Break explicitly a reference cycle\u001b[0m\u001b[0;34m\u001b[0m\u001b[0;34m\u001b[0m\u001b[0m\n",
            "\u001b[0;31mConnectionRefusedError\u001b[0m: [Errno 111] Connection refused",
            "\nThe above exception was the direct cause of the following exception:\n",
            "\u001b[0;31mNewConnectionError\u001b[0m                        Traceback (most recent call last)",
            "\u001b[0;32m/usr/local/lib/python3.10/dist-packages/urllib3/connectionpool.py\u001b[0m in \u001b[0;36murlopen\u001b[0;34m(self, method, url, body, headers, retries, redirect, assert_same_host, timeout, pool_timeout, release_conn, chunked, body_pos, preload_content, decode_content, **response_kw)\u001b[0m\n\u001b[1;32m    788\u001b[0m             \u001b[0;31m# Make the request on the HTTPConnection object\u001b[0m\u001b[0;34m\u001b[0m\u001b[0;34m\u001b[0m\u001b[0m\n\u001b[0;32m--> 789\u001b[0;31m             response = self._make_request(\n\u001b[0m\u001b[1;32m    790\u001b[0m                 \u001b[0mconn\u001b[0m\u001b[0;34m,\u001b[0m\u001b[0;34m\u001b[0m\u001b[0;34m\u001b[0m\u001b[0m\n",
            "\u001b[0;32m/usr/local/lib/python3.10/dist-packages/urllib3/connectionpool.py\u001b[0m in \u001b[0;36m_make_request\u001b[0;34m(self, conn, method, url, body, headers, retries, timeout, chunked, response_conn, preload_content, decode_content, enforce_content_length)\u001b[0m\n\u001b[1;32m    494\u001b[0m         \u001b[0;32mtry\u001b[0m\u001b[0;34m:\u001b[0m\u001b[0;34m\u001b[0m\u001b[0;34m\u001b[0m\u001b[0m\n\u001b[0;32m--> 495\u001b[0;31m             conn.request(\n\u001b[0m\u001b[1;32m    496\u001b[0m                 \u001b[0mmethod\u001b[0m\u001b[0;34m,\u001b[0m\u001b[0;34m\u001b[0m\u001b[0;34m\u001b[0m\u001b[0m\n",
            "\u001b[0;32m/usr/local/lib/python3.10/dist-packages/urllib3/connection.py\u001b[0m in \u001b[0;36mrequest\u001b[0;34m(self, method, url, body, headers, chunked, preload_content, decode_content, enforce_content_length)\u001b[0m\n\u001b[1;32m    440\u001b[0m             \u001b[0mself\u001b[0m\u001b[0;34m.\u001b[0m\u001b[0mputheader\u001b[0m\u001b[0;34m(\u001b[0m\u001b[0mheader\u001b[0m\u001b[0;34m,\u001b[0m \u001b[0mvalue\u001b[0m\u001b[0;34m)\u001b[0m\u001b[0;34m\u001b[0m\u001b[0;34m\u001b[0m\u001b[0m\n\u001b[0;32m--> 441\u001b[0;31m         \u001b[0mself\u001b[0m\u001b[0;34m.\u001b[0m\u001b[0mendheaders\u001b[0m\u001b[0;34m(\u001b[0m\u001b[0;34m)\u001b[0m\u001b[0;34m\u001b[0m\u001b[0;34m\u001b[0m\u001b[0m\n\u001b[0m\u001b[1;32m    442\u001b[0m \u001b[0;34m\u001b[0m\u001b[0m\n",
            "\u001b[0;32m/usr/lib/python3.10/http/client.py\u001b[0m in \u001b[0;36mendheaders\u001b[0;34m(self, message_body, encode_chunked)\u001b[0m\n\u001b[1;32m   1277\u001b[0m             \u001b[0;32mraise\u001b[0m \u001b[0mCannotSendHeader\u001b[0m\u001b[0;34m(\u001b[0m\u001b[0;34m)\u001b[0m\u001b[0;34m\u001b[0m\u001b[0;34m\u001b[0m\u001b[0m\n\u001b[0;32m-> 1278\u001b[0;31m         \u001b[0mself\u001b[0m\u001b[0;34m.\u001b[0m\u001b[0m_send_output\u001b[0m\u001b[0;34m(\u001b[0m\u001b[0mmessage_body\u001b[0m\u001b[0;34m,\u001b[0m \u001b[0mencode_chunked\u001b[0m\u001b[0;34m=\u001b[0m\u001b[0mencode_chunked\u001b[0m\u001b[0;34m)\u001b[0m\u001b[0;34m\u001b[0m\u001b[0;34m\u001b[0m\u001b[0m\n\u001b[0m\u001b[1;32m   1279\u001b[0m \u001b[0;34m\u001b[0m\u001b[0m\n",
            "\u001b[0;32m/usr/lib/python3.10/http/client.py\u001b[0m in \u001b[0;36m_send_output\u001b[0;34m(self, message_body, encode_chunked)\u001b[0m\n\u001b[1;32m   1037\u001b[0m         \u001b[0;32mdel\u001b[0m \u001b[0mself\u001b[0m\u001b[0;34m.\u001b[0m\u001b[0m_buffer\u001b[0m\u001b[0;34m[\u001b[0m\u001b[0;34m:\u001b[0m\u001b[0;34m]\u001b[0m\u001b[0;34m\u001b[0m\u001b[0;34m\u001b[0m\u001b[0m\n\u001b[0;32m-> 1038\u001b[0;31m         \u001b[0mself\u001b[0m\u001b[0;34m.\u001b[0m\u001b[0msend\u001b[0m\u001b[0;34m(\u001b[0m\u001b[0mmsg\u001b[0m\u001b[0;34m)\u001b[0m\u001b[0;34m\u001b[0m\u001b[0;34m\u001b[0m\u001b[0m\n\u001b[0m\u001b[1;32m   1039\u001b[0m \u001b[0;34m\u001b[0m\u001b[0m\n",
            "\u001b[0;32m/usr/lib/python3.10/http/client.py\u001b[0m in \u001b[0;36msend\u001b[0;34m(self, data)\u001b[0m\n\u001b[1;32m    975\u001b[0m             \u001b[0;32mif\u001b[0m \u001b[0mself\u001b[0m\u001b[0;34m.\u001b[0m\u001b[0mauto_open\u001b[0m\u001b[0;34m:\u001b[0m\u001b[0;34m\u001b[0m\u001b[0;34m\u001b[0m\u001b[0m\n\u001b[0;32m--> 976\u001b[0;31m                 \u001b[0mself\u001b[0m\u001b[0;34m.\u001b[0m\u001b[0mconnect\u001b[0m\u001b[0;34m(\u001b[0m\u001b[0;34m)\u001b[0m\u001b[0;34m\u001b[0m\u001b[0;34m\u001b[0m\u001b[0m\n\u001b[0m\u001b[1;32m    977\u001b[0m             \u001b[0;32melse\u001b[0m\u001b[0;34m:\u001b[0m\u001b[0;34m\u001b[0m\u001b[0;34m\u001b[0m\u001b[0m\n",
            "\u001b[0;32m/usr/local/lib/python3.10/dist-packages/urllib3/connection.py\u001b[0m in \u001b[0;36mconnect\u001b[0;34m(self)\u001b[0m\n\u001b[1;32m    278\u001b[0m     \u001b[0;32mdef\u001b[0m \u001b[0mconnect\u001b[0m\u001b[0;34m(\u001b[0m\u001b[0mself\u001b[0m\u001b[0;34m)\u001b[0m \u001b[0;34m->\u001b[0m \u001b[0;32mNone\u001b[0m\u001b[0;34m:\u001b[0m\u001b[0;34m\u001b[0m\u001b[0;34m\u001b[0m\u001b[0m\n\u001b[0;32m--> 279\u001b[0;31m         \u001b[0mself\u001b[0m\u001b[0;34m.\u001b[0m\u001b[0msock\u001b[0m \u001b[0;34m=\u001b[0m \u001b[0mself\u001b[0m\u001b[0;34m.\u001b[0m\u001b[0m_new_conn\u001b[0m\u001b[0;34m(\u001b[0m\u001b[0;34m)\u001b[0m\u001b[0;34m\u001b[0m\u001b[0;34m\u001b[0m\u001b[0m\n\u001b[0m\u001b[1;32m    280\u001b[0m         \u001b[0;32mif\u001b[0m \u001b[0mself\u001b[0m\u001b[0;34m.\u001b[0m\u001b[0m_tunnel_host\u001b[0m\u001b[0;34m:\u001b[0m\u001b[0;34m\u001b[0m\u001b[0;34m\u001b[0m\u001b[0m\n",
            "\u001b[0;32m/usr/local/lib/python3.10/dist-packages/urllib3/connection.py\u001b[0m in \u001b[0;36m_new_conn\u001b[0;34m(self)\u001b[0m\n\u001b[1;32m    213\u001b[0m         \u001b[0;32mexcept\u001b[0m \u001b[0mOSError\u001b[0m \u001b[0;32mas\u001b[0m \u001b[0me\u001b[0m\u001b[0;34m:\u001b[0m\u001b[0;34m\u001b[0m\u001b[0;34m\u001b[0m\u001b[0m\n\u001b[0;32m--> 214\u001b[0;31m             raise NewConnectionError(\n\u001b[0m\u001b[1;32m    215\u001b[0m                 \u001b[0mself\u001b[0m\u001b[0;34m,\u001b[0m \u001b[0;34mf\"Failed to establish a new connection: {e}\"\u001b[0m\u001b[0;34m\u001b[0m\u001b[0;34m\u001b[0m\u001b[0m\n",
            "\u001b[0;31mNewConnectionError\u001b[0m: <urllib3.connection.HTTPConnection object at 0x7bd663ac1090>: Failed to establish a new connection: [Errno 111] Connection refused",
            "\nThe above exception was the direct cause of the following exception:\n",
            "\u001b[0;31mMaxRetryError\u001b[0m                             Traceback (most recent call last)",
            "\u001b[0;32m/usr/local/lib/python3.10/dist-packages/requests/adapters.py\u001b[0m in \u001b[0;36msend\u001b[0;34m(self, request, stream, timeout, verify, cert, proxies)\u001b[0m\n\u001b[1;32m    666\u001b[0m         \u001b[0;32mtry\u001b[0m\u001b[0;34m:\u001b[0m\u001b[0;34m\u001b[0m\u001b[0;34m\u001b[0m\u001b[0m\n\u001b[0;32m--> 667\u001b[0;31m             resp = conn.urlopen(\n\u001b[0m\u001b[1;32m    668\u001b[0m                 \u001b[0mmethod\u001b[0m\u001b[0;34m=\u001b[0m\u001b[0mrequest\u001b[0m\u001b[0;34m.\u001b[0m\u001b[0mmethod\u001b[0m\u001b[0;34m,\u001b[0m\u001b[0;34m\u001b[0m\u001b[0;34m\u001b[0m\u001b[0m\n",
            "\u001b[0;32m/usr/local/lib/python3.10/dist-packages/urllib3/connectionpool.py\u001b[0m in \u001b[0;36murlopen\u001b[0;34m(self, method, url, body, headers, retries, redirect, assert_same_host, timeout, pool_timeout, release_conn, chunked, body_pos, preload_content, decode_content, **response_kw)\u001b[0m\n\u001b[1;32m    842\u001b[0m \u001b[0;34m\u001b[0m\u001b[0m\n\u001b[0;32m--> 843\u001b[0;31m             retries = retries.increment(\n\u001b[0m\u001b[1;32m    844\u001b[0m                 \u001b[0mmethod\u001b[0m\u001b[0;34m,\u001b[0m \u001b[0murl\u001b[0m\u001b[0;34m,\u001b[0m \u001b[0merror\u001b[0m\u001b[0;34m=\u001b[0m\u001b[0mnew_e\u001b[0m\u001b[0;34m,\u001b[0m \u001b[0m_pool\u001b[0m\u001b[0;34m=\u001b[0m\u001b[0mself\u001b[0m\u001b[0;34m,\u001b[0m \u001b[0m_stacktrace\u001b[0m\u001b[0;34m=\u001b[0m\u001b[0msys\u001b[0m\u001b[0;34m.\u001b[0m\u001b[0mexc_info\u001b[0m\u001b[0;34m(\u001b[0m\u001b[0;34m)\u001b[0m\u001b[0;34m[\u001b[0m\u001b[0;36m2\u001b[0m\u001b[0;34m]\u001b[0m\u001b[0;34m\u001b[0m\u001b[0;34m\u001b[0m\u001b[0m\n",
            "\u001b[0;32m/usr/local/lib/python3.10/dist-packages/urllib3/util/retry.py\u001b[0m in \u001b[0;36mincrement\u001b[0;34m(self, method, url, response, error, _pool, _stacktrace)\u001b[0m\n\u001b[1;32m    518\u001b[0m             \u001b[0mreason\u001b[0m \u001b[0;34m=\u001b[0m \u001b[0merror\u001b[0m \u001b[0;32mor\u001b[0m \u001b[0mResponseError\u001b[0m\u001b[0;34m(\u001b[0m\u001b[0mcause\u001b[0m\u001b[0;34m)\u001b[0m\u001b[0;34m\u001b[0m\u001b[0;34m\u001b[0m\u001b[0m\n\u001b[0;32m--> 519\u001b[0;31m             \u001b[0;32mraise\u001b[0m \u001b[0mMaxRetryError\u001b[0m\u001b[0;34m(\u001b[0m\u001b[0m_pool\u001b[0m\u001b[0;34m,\u001b[0m \u001b[0murl\u001b[0m\u001b[0;34m,\u001b[0m \u001b[0mreason\u001b[0m\u001b[0;34m)\u001b[0m \u001b[0;32mfrom\u001b[0m \u001b[0mreason\u001b[0m  \u001b[0;31m# type: ignore[arg-type]\u001b[0m\u001b[0;34m\u001b[0m\u001b[0;34m\u001b[0m\u001b[0m\n\u001b[0m\u001b[1;32m    520\u001b[0m \u001b[0;34m\u001b[0m\u001b[0m\n",
            "\u001b[0;31mMaxRetryError\u001b[0m: HTTPConnectionPool(host='localhost', port=11434): Max retries exceeded with url: /api/generate (Caused by NewConnectionError('<urllib3.connection.HTTPConnection object at 0x7bd663ac1090>: Failed to establish a new connection: [Errno 111] Connection refused'))",
            "\nDuring handling of the above exception, another exception occurred:\n",
            "\u001b[0;31mConnectionError\u001b[0m                           Traceback (most recent call last)",
            "\u001b[0;32m<ipython-input-38-8d2cfca5fa53>\u001b[0m in \u001b[0;36m<cell line: 19>\u001b[0;34m()\u001b[0m\n\u001b[1;32m     17\u001b[0m \u001b[0mheaders\u001b[0m \u001b[0;34m=\u001b[0m \u001b[0;34m{\u001b[0m\u001b[0;34m'Content-Type'\u001b[0m\u001b[0;34m:\u001b[0m \u001b[0;34m'application/json'\u001b[0m\u001b[0;34m}\u001b[0m\u001b[0;34m\u001b[0m\u001b[0;34m\u001b[0m\u001b[0m\n\u001b[1;32m     18\u001b[0m \u001b[0;34m\u001b[0m\u001b[0m\n\u001b[0;32m---> 19\u001b[0;31m \u001b[0mresponse\u001b[0m \u001b[0;34m=\u001b[0m \u001b[0mrequests\u001b[0m\u001b[0;34m.\u001b[0m\u001b[0mpost\u001b[0m\u001b[0;34m(\u001b[0m\u001b[0murl\u001b[0m\u001b[0;34m,\u001b[0m \u001b[0mdata\u001b[0m\u001b[0;34m=\u001b[0m\u001b[0mjson\u001b[0m\u001b[0;34m.\u001b[0m\u001b[0mdumps\u001b[0m\u001b[0;34m(\u001b[0m\u001b[0mdata\u001b[0m\u001b[0;34m)\u001b[0m\u001b[0;34m,\u001b[0m \u001b[0mheaders\u001b[0m\u001b[0;34m=\u001b[0m\u001b[0mheaders\u001b[0m\u001b[0;34m,\u001b[0m \u001b[0mstream\u001b[0m\u001b[0;34m=\u001b[0m\u001b[0;32mTrue\u001b[0m\u001b[0;34m)\u001b[0m\u001b[0;34m\u001b[0m\u001b[0;34m\u001b[0m\u001b[0m\n\u001b[0m\u001b[1;32m     20\u001b[0m \u001b[0;34m\u001b[0m\u001b[0m\n\u001b[1;32m     21\u001b[0m \u001b[0;34m\u001b[0m\u001b[0m\n",
            "\u001b[0;32m/usr/local/lib/python3.10/dist-packages/requests/api.py\u001b[0m in \u001b[0;36mpost\u001b[0;34m(url, data, json, **kwargs)\u001b[0m\n\u001b[1;32m    113\u001b[0m     \"\"\"\n\u001b[1;32m    114\u001b[0m \u001b[0;34m\u001b[0m\u001b[0m\n\u001b[0;32m--> 115\u001b[0;31m     \u001b[0;32mreturn\u001b[0m \u001b[0mrequest\u001b[0m\u001b[0;34m(\u001b[0m\u001b[0;34m\"post\"\u001b[0m\u001b[0;34m,\u001b[0m \u001b[0murl\u001b[0m\u001b[0;34m,\u001b[0m \u001b[0mdata\u001b[0m\u001b[0;34m=\u001b[0m\u001b[0mdata\u001b[0m\u001b[0;34m,\u001b[0m \u001b[0mjson\u001b[0m\u001b[0;34m=\u001b[0m\u001b[0mjson\u001b[0m\u001b[0;34m,\u001b[0m \u001b[0;34m**\u001b[0m\u001b[0mkwargs\u001b[0m\u001b[0;34m)\u001b[0m\u001b[0;34m\u001b[0m\u001b[0;34m\u001b[0m\u001b[0m\n\u001b[0m\u001b[1;32m    116\u001b[0m \u001b[0;34m\u001b[0m\u001b[0m\n\u001b[1;32m    117\u001b[0m \u001b[0;34m\u001b[0m\u001b[0m\n",
            "\u001b[0;32m/usr/local/lib/python3.10/dist-packages/requests/api.py\u001b[0m in \u001b[0;36mrequest\u001b[0;34m(method, url, **kwargs)\u001b[0m\n\u001b[1;32m     57\u001b[0m     \u001b[0;31m# cases, and look like a memory leak in others.\u001b[0m\u001b[0;34m\u001b[0m\u001b[0;34m\u001b[0m\u001b[0m\n\u001b[1;32m     58\u001b[0m     \u001b[0;32mwith\u001b[0m \u001b[0msessions\u001b[0m\u001b[0;34m.\u001b[0m\u001b[0mSession\u001b[0m\u001b[0;34m(\u001b[0m\u001b[0;34m)\u001b[0m \u001b[0;32mas\u001b[0m \u001b[0msession\u001b[0m\u001b[0;34m:\u001b[0m\u001b[0;34m\u001b[0m\u001b[0;34m\u001b[0m\u001b[0m\n\u001b[0;32m---> 59\u001b[0;31m         \u001b[0;32mreturn\u001b[0m \u001b[0msession\u001b[0m\u001b[0;34m.\u001b[0m\u001b[0mrequest\u001b[0m\u001b[0;34m(\u001b[0m\u001b[0mmethod\u001b[0m\u001b[0;34m=\u001b[0m\u001b[0mmethod\u001b[0m\u001b[0;34m,\u001b[0m \u001b[0murl\u001b[0m\u001b[0;34m=\u001b[0m\u001b[0murl\u001b[0m\u001b[0;34m,\u001b[0m \u001b[0;34m**\u001b[0m\u001b[0mkwargs\u001b[0m\u001b[0;34m)\u001b[0m\u001b[0;34m\u001b[0m\u001b[0;34m\u001b[0m\u001b[0m\n\u001b[0m\u001b[1;32m     60\u001b[0m \u001b[0;34m\u001b[0m\u001b[0m\n\u001b[1;32m     61\u001b[0m \u001b[0;34m\u001b[0m\u001b[0m\n",
            "\u001b[0;32m/usr/local/lib/python3.10/dist-packages/requests/sessions.py\u001b[0m in \u001b[0;36mrequest\u001b[0;34m(self, method, url, params, data, headers, cookies, files, auth, timeout, allow_redirects, proxies, hooks, stream, verify, cert, json)\u001b[0m\n\u001b[1;32m    587\u001b[0m         }\n\u001b[1;32m    588\u001b[0m         \u001b[0msend_kwargs\u001b[0m\u001b[0;34m.\u001b[0m\u001b[0mupdate\u001b[0m\u001b[0;34m(\u001b[0m\u001b[0msettings\u001b[0m\u001b[0;34m)\u001b[0m\u001b[0;34m\u001b[0m\u001b[0;34m\u001b[0m\u001b[0m\n\u001b[0;32m--> 589\u001b[0;31m         \u001b[0mresp\u001b[0m \u001b[0;34m=\u001b[0m \u001b[0mself\u001b[0m\u001b[0;34m.\u001b[0m\u001b[0msend\u001b[0m\u001b[0;34m(\u001b[0m\u001b[0mprep\u001b[0m\u001b[0;34m,\u001b[0m \u001b[0;34m**\u001b[0m\u001b[0msend_kwargs\u001b[0m\u001b[0;34m)\u001b[0m\u001b[0;34m\u001b[0m\u001b[0;34m\u001b[0m\u001b[0m\n\u001b[0m\u001b[1;32m    590\u001b[0m \u001b[0;34m\u001b[0m\u001b[0m\n\u001b[1;32m    591\u001b[0m         \u001b[0;32mreturn\u001b[0m \u001b[0mresp\u001b[0m\u001b[0;34m\u001b[0m\u001b[0;34m\u001b[0m\u001b[0m\n",
            "\u001b[0;32m/usr/local/lib/python3.10/dist-packages/requests/sessions.py\u001b[0m in \u001b[0;36msend\u001b[0;34m(self, request, **kwargs)\u001b[0m\n\u001b[1;32m    701\u001b[0m \u001b[0;34m\u001b[0m\u001b[0m\n\u001b[1;32m    702\u001b[0m         \u001b[0;31m# Send the request\u001b[0m\u001b[0;34m\u001b[0m\u001b[0;34m\u001b[0m\u001b[0m\n\u001b[0;32m--> 703\u001b[0;31m         \u001b[0mr\u001b[0m \u001b[0;34m=\u001b[0m \u001b[0madapter\u001b[0m\u001b[0;34m.\u001b[0m\u001b[0msend\u001b[0m\u001b[0;34m(\u001b[0m\u001b[0mrequest\u001b[0m\u001b[0;34m,\u001b[0m \u001b[0;34m**\u001b[0m\u001b[0mkwargs\u001b[0m\u001b[0;34m)\u001b[0m\u001b[0;34m\u001b[0m\u001b[0;34m\u001b[0m\u001b[0m\n\u001b[0m\u001b[1;32m    704\u001b[0m \u001b[0;34m\u001b[0m\u001b[0m\n\u001b[1;32m    705\u001b[0m         \u001b[0;31m# Total elapsed time of the request (approximately)\u001b[0m\u001b[0;34m\u001b[0m\u001b[0;34m\u001b[0m\u001b[0m\n",
            "\u001b[0;32m/usr/local/lib/python3.10/dist-packages/requests/adapters.py\u001b[0m in \u001b[0;36msend\u001b[0;34m(self, request, stream, timeout, verify, cert, proxies)\u001b[0m\n\u001b[1;32m    698\u001b[0m                 \u001b[0;32mraise\u001b[0m \u001b[0mSSLError\u001b[0m\u001b[0;34m(\u001b[0m\u001b[0me\u001b[0m\u001b[0;34m,\u001b[0m \u001b[0mrequest\u001b[0m\u001b[0;34m=\u001b[0m\u001b[0mrequest\u001b[0m\u001b[0;34m)\u001b[0m\u001b[0;34m\u001b[0m\u001b[0;34m\u001b[0m\u001b[0m\n\u001b[1;32m    699\u001b[0m \u001b[0;34m\u001b[0m\u001b[0m\n\u001b[0;32m--> 700\u001b[0;31m             \u001b[0;32mraise\u001b[0m \u001b[0mConnectionError\u001b[0m\u001b[0;34m(\u001b[0m\u001b[0me\u001b[0m\u001b[0;34m,\u001b[0m \u001b[0mrequest\u001b[0m\u001b[0;34m=\u001b[0m\u001b[0mrequest\u001b[0m\u001b[0;34m)\u001b[0m\u001b[0;34m\u001b[0m\u001b[0;34m\u001b[0m\u001b[0m\n\u001b[0m\u001b[1;32m    701\u001b[0m \u001b[0;34m\u001b[0m\u001b[0m\n\u001b[1;32m    702\u001b[0m         \u001b[0;32mexcept\u001b[0m \u001b[0mClosedPoolError\u001b[0m \u001b[0;32mas\u001b[0m \u001b[0me\u001b[0m\u001b[0;34m:\u001b[0m\u001b[0;34m\u001b[0m\u001b[0;34m\u001b[0m\u001b[0m\n",
            "\u001b[0;31mConnectionError\u001b[0m: HTTPConnectionPool(host='localhost', port=11434): Max retries exceeded with url: /api/generate (Caused by NewConnectionError('<urllib3.connection.HTTPConnection object at 0x7bd663ac1090>: Failed to establish a new connection: [Errno 111] Connection refused'))"
          ]
        }
      ]
    },
    {
      "cell_type": "code",
      "source": [],
      "metadata": {
        "colab": {
          "base_uri": "https://localhost:8080/",
          "height": 127
        },
        "id": "lJlZyj9FMtqo",
        "outputId": "1b0e32b4-9259-4b4e-989d-5f5e92268c8b"
      },
      "execution_count": 30,
      "outputs": [
        {
          "output_type": "execute_result",
          "data": {
            "text/plain": [
              "\"Python is a versatile programming language known for its simplicity and readability.Variables in Python do not require explicit type declarations.Python supports multiple programming paradigms, including procedural, object-oriented, and functional programming.The `print()` function is used to display output in Python.Indentation is mandatory in Python and defines code blocks.Python has a dynamic type system and garbage collection.Lists in Python are mutable and can store elements of different data types.Tuples are immutable and are defined using parentheses.Dictionaries in Python store key-value pairs and are unordered.Python supports sets, which are unordered collections of unique elements.The `for` loop in Python is used for iterating over sequences like lists or strings.Python's `while` loop runs as long as a condition is `True`.Functions in Python are defined using the `def` keyword.Lambda functions in Python are anonymous and defined using the `lambda` keyword.Python uses the `import` statement to include external modules or libraries.The `os` module in Python provides functions to interact with the operating system.Python has a built-in `math` module for performing mathematical operations.Strings in Python are immutable and can be enclosed in single or double quotes.The `split()` method divides a string into a list based on a delimiter.Python supports string formatting with f-strings, `.format()`, and `%` operators.The `try` and `except` blocks handle exceptions in Python.Python uses the `with` statement to manage resources like file handling.List comprehensions in Python provide a concise way to create lists.Generators in Python use the `yield` keyword to produce values lazily.The `map()` function applies a function to all items in an iterable.The `filter()` function selects elements from an iterable based on a condition.Python has extensive support for regular expressions using the `re` module.The `datetime` module handles dates and times in Python.Python provides built-in support for JSON serialization with the `json` module.Python is widely used for web development with frameworks like Django and Flask.Data analysis in Python is often done using libraries like Pandas and NumPy.Machine learning applications in Python commonly use TensorFlow and PyTorch.Matplotlib and Seaborn are popular libraries for data visualization in Python.Python is a popular choice for scripting and automation.Python's `asyncio` library supports asynchronous programming.The `logging` module in Python provides a flexible framework for logging messages.Python has extensive support for testing with libraries like `unittest` and `pytest`.The `argparse` module is used for parsing command-line arguments.Python's `collections` module offers specialized container data types.Decorators in Python are functions that modify other functions or methods.Python supports multiple inheritance in object-oriented programming.The `super()` function allows access to methods in a parent class.Python provides support for file I/O operations using built-in functions like `open()`.Python's `itertools` module provides tools for working with iterators.Python supports complex numbers, represented as `a + bj`.The `random` module in Python is used for generating random numbers.The `csv` module simplifies reading from and writing to CSV files.Python has built-in support for working with XML and HTML using `xml` and `html.parser` modules.The `zip()` function combines multiple iterables into tuples.The `enumerate()` function adds an index to each item in an iterable.The `id()` function returns the unique identifier of an object in Python.Python allows the use of metaclasses to control the creation of classes.The `__init__` method in Python is the constructor for classes.The `__str__` and `__repr__` methods control how objects are displayed.Python's `__getitem__` method allows indexing for custom objects.The `staticmethod` and `classmethod` decorators define special methods in a class.Python supports creating virtual environments with the `venv` module.PIP is the package installer for Python and is used to install libraries.Python supports Unicode strings by default.Assertions in Python are used for debugging with the `assert` statement.The `type()` function returns the type of an object.Python supports inheritance and polymorphism in classes.The `dir()` function lists the attributes of an object.Python allows importing specific functions or classes using `from module import` syntax.Modules in Python can be grouped into packages using directories and `__init__.py` files.The `help()` function provides documentation for objects and modules.Python is widely used for scientific computing with SciPy and SymPy libraries.Python is a preferred choice for artificial intelligence applications.The `socket` module in Python is used for network programming.Python has robust support for multithreading and multiprocessing.The `ctypes` library allows calling C functions in Python.Python is a popular language for game development using libraries like Pygame.The `hashlib` module provides secure hash algorithms like SHA and MD5.Python supports both procedural and functional programming styles.Python's `property` decorator allows defining managed attributes.The `abc` module provides support for abstract base classes in Python.Python's `glob` module is used to find file paths matching a pattern.The `time` module provides functions for working with time.Python's `inspect` module is used for introspecting live objects.The `subprocess` module allows running shell commands in Python.Python's `traceback` module helps in formatting and printing error traces.The `shutil` module provides file operations like copying and moving.Python's `configparser` module is used for parsing configuration files.The `pickle` module serializes and deserializes Python objects.Python supports database interaction using libraries like SQLite and SQLAlchemy.Python is a key language for developing REST APIs.The `functools` module includes utilities for higher-order functions.The `threading` module in Python supports concurrent execution.Python is an essential tool for web scraping using BeautifulSoup and Scrapy.Python's `weakref` module provides support for weak references to objects.Python's community and extensive documentation make it easy to learn and use.\""
            ],
            "application/vnd.google.colaboratory.intrinsic+json": {
              "type": "string"
            }
          },
          "metadata": {},
          "execution_count": 30
        }
      ]
    },
    {
      "cell_type": "code",
      "source": [
        "\n"
      ],
      "metadata": {
        "colab": {
          "base_uri": "https://localhost:8080/"
        },
        "id": "P2OcxwedNo6j",
        "outputId": "a0accfa6-908c-4435-f8d7-445a97dc6332"
      },
      "execution_count": 21,
      "outputs": [
        {
          "output_type": "stream",
          "name": "stdout",
          "text": [
            "Relevant Document: A class in Python is a blueprint for creating objects.\n"
          ]
        }
      ]
    },
    {
      "cell_type": "code",
      "source": [],
      "metadata": {
        "id": "dZLBSuUQNuE2"
      },
      "execution_count": null,
      "outputs": []
    }
  ]
}